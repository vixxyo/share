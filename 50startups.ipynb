{
 "cells": [
  {
   "cell_type": "markdown",
   "id": "47339c68",
   "metadata": {},
   "source": [
    "**IMPORTING DATASET**"
   ]
  },
  {
   "cell_type": "code",
   "execution_count": null,
   "id": "466ff24a",
   "metadata": {},
   "outputs": [],
   "source": [
    "import numpy as np #for performing calculations\n",
    "import pandas as pd # for handling dataset\n",
    "import matplotlib.pyplot as plt # for visualization\n",
    "import sklearn # for model development\n",
    "import seaborn as sns # for visualization"
   ]
  },
  {
   "cell_type": "code",
   "execution_count": null,
   "id": "0b4d56f1",
   "metadata": {
    "scrolled": false
   },
   "outputs": [],
   "source": [
    "dataset=pd.read_csv('50_Startups.csv')\n",
    "dataset.head()"
   ]
  },
  {
   "cell_type": "code",
   "execution_count": null,
   "id": "5b71a581",
   "metadata": {},
   "outputs": [],
   "source": [
    "dataset.shape"
   ]
  },
  {
   "cell_type": "markdown",
   "id": "a19c52bc",
   "metadata": {},
   "source": [
    "**CHECKING DATA FOR ANY ERROR**"
   ]
  },
  {
   "cell_type": "code",
   "execution_count": null,
   "id": "365eb4cd",
   "metadata": {
    "scrolled": true
   },
   "outputs": [],
   "source": [
    "dataset.info()"
   ]
  },
  {
   "cell_type": "code",
   "execution_count": null,
   "id": "242ed8e7",
   "metadata": {
    "scrolled": false
   },
   "outputs": [],
   "source": [
    "dataset.duplicated().sum()"
   ]
  },
  {
   "cell_type": "code",
   "execution_count": null,
   "id": "1968be84",
   "metadata": {
    "scrolled": true
   },
   "outputs": [],
   "source": [
    "dataset.isnull().sum()"
   ]
  },
  {
   "cell_type": "markdown",
   "id": "ec7de2bb",
   "metadata": {},
   "source": [
    "There are no duplicated or null values in dataset. Hence, no need to clean the data."
   ]
  },
  {
   "cell_type": "markdown",
   "id": "401299c9",
   "metadata": {},
   "source": [
    "**ANALYSIS OF DATASET**"
   ]
  },
  {
   "cell_type": "code",
   "execution_count": null,
   "id": "0007b580",
   "metadata": {
    "scrolled": true
   },
   "outputs": [],
   "source": [
    "dataset.describe()"
   ]
  },
  {
   "cell_type": "code",
   "execution_count": null,
   "id": "24f54a6f",
   "metadata": {},
   "outputs": [],
   "source": [
    "correlation = dataset.corr()\n",
    "correlation"
   ]
  },
  {
   "cell_type": "code",
   "execution_count": null,
   "id": "302c3376",
   "metadata": {
    "scrolled": false
   },
   "outputs": [],
   "source": [
    "heat=sns.heatmap(correlation,annot=True,cmap='Blues')\n"
   ]
  },
  {
   "cell_type": "code",
   "execution_count": null,
   "id": "a5051fcd",
   "metadata": {},
   "outputs": [],
   "source": [
    "grid=sns.pairplot(dataset)\n"
   ]
  },
  {
   "cell_type": "markdown",
   "id": "b468bc3a",
   "metadata": {},
   "source": [
    "From heatmap and pairplotting we found that there is a positive correlation between R&D Spend, Marketing Spend and profit."
   ]
  },
  {
   "cell_type": "code",
   "execution_count": null,
   "id": "c41a0fbc",
   "metadata": {},
   "outputs": [],
   "source": [
    "outliers = ['Profit']\n",
    "plt.rcParams['figure.figsize'] = [8,8]\n",
    "sns.boxplot(data=dataset[outliers], orient=\"v\", palette=\"Set2\" , width=0.7) \n",
    "plt.title(\"Outliers Variable Distribution\")\n",
    "plt.ylabel(\"Profit Range\")\n",
    "plt.xlabel(\"Continuous Variable\")\n",
    "\n",
    "plt.show()"
   ]
  },
  {
   "cell_type": "markdown",
   "id": "1294d036",
   "metadata": {},
   "source": [
    "**MODEL**"
   ]
  },
  {
   "cell_type": "markdown",
   "id": "0dba800a",
   "metadata": {},
   "source": [
    "spliting Dataset in Dependent & Independent Variables"
   ]
  },
  {
   "cell_type": "code",
   "execution_count": null,
   "id": "1a1d35b0",
   "metadata": {},
   "outputs": [],
   "source": [
    "X = dataset.drop('Profit',axis=1)\n",
    "y = dataset['Profit']"
   ]
  },
  {
   "cell_type": "markdown",
   "id": "f7311bad",
   "metadata": {},
   "source": [
    "spliting dataset into training and testing data"
   ]
  },
  {
   "cell_type": "code",
   "execution_count": null,
   "id": "ed428552",
   "metadata": {
    "scrolled": false
   },
   "outputs": [],
   "source": [
    "from sklearn.model_selection import train_test_split\n",
    "\n",
    "x_train,x_test,y_train,y_test = train_test_split(X,y,train_size=0.7,random_state=0)\n",
    "x_train"
   ]
  },
  {
   "cell_type": "markdown",
   "id": "27e58f95",
   "metadata": {},
   "source": [
    "Training model"
   ]
  },
  {
   "cell_type": "code",
   "execution_count": null,
   "id": "9c10b71e",
   "metadata": {},
   "outputs": [],
   "source": [
    "from sklearn.linear_model import LinearRegression\n",
    "\n",
    "model = LinearRegression()\n",
    "m=model.fit(x_train.values,y_train)"
   ]
  },
  {
   "cell_type": "code",
   "execution_count": null,
   "id": "c497beb4",
   "metadata": {},
   "outputs": [],
   "source": [
    "y_pred = model.predict(x_test.values)\n",
    "y_pred"
   ]
  },
  {
   "cell_type": "code",
   "execution_count": null,
   "id": "b67e0048",
   "metadata": {
    "scrolled": false
   },
   "outputs": [],
   "source": [
    "df = pd.DataFrame(data={'Actual Value':y_test,'Predicted value':y_pred})\n",
    "df"
   ]
  },
  {
   "cell_type": "markdown",
   "id": "a917be32",
   "metadata": {},
   "source": [
    "Model evaluation"
   ]
  },
  {
   "cell_type": "code",
   "execution_count": null,
   "id": "d34554eb",
   "metadata": {
    "scrolled": true
   },
   "outputs": [],
   "source": [
    "from sklearn.metrics import r2_score\n",
    "\n",
    "Score = r2_score(y_pred, y_test)\n",
    "print(\"score :\" ,Score*100)"
   ]
  },
  {
   "cell_type": "markdown",
   "id": "e3b6df3e",
   "metadata": {},
   "source": [
    "The predicted value is close to actual value and model score is also good. Hence, this model can be used for prediction"
   ]
  },
  {
   "cell_type": "markdown",
   "id": "2df2be05",
   "metadata": {},
   "source": [
    "**Example**"
   ]
  },
  {
   "cell_type": "code",
   "execution_count": null,
   "id": "f56a2b63",
   "metadata": {},
   "outputs": [],
   "source": [
    "sample=pd.DataFrame({'R&D Spend':192000,'Administration':70000,'Marketing Spend':120000},index=[1])\n",
    "sample"
   ]
  },
  {
   "cell_type": "code",
   "execution_count": null,
   "id": "9a9eddb0",
   "metadata": {},
   "outputs": [],
   "source": [
    "prediction=m.predict(sample.values)\n",
    "print(f'profit is {prediction}')"
   ]
  }
 ],
 "metadata": {
  "kernelspec": {
   "display_name": "Python 3 (ipykernel)",
   "language": "python",
   "name": "python3"
  },
  "language_info": {
   "codemirror_mode": {
    "name": "ipython",
    "version": 3
   },
   "file_extension": ".py",
   "mimetype": "text/x-python",
   "name": "python",
   "nbconvert_exporter": "python",
   "pygments_lexer": "ipython3",
   "version": "3.9.12"
  }
 },
 "nbformat": 4,
 "nbformat_minor": 5
}
